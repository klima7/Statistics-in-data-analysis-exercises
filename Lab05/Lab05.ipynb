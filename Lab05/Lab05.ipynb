{
 "cells": [
  {
   "cell_type": "markdown",
   "metadata": {},
   "source": [
    "# Statystyka w Analizie Danych\n",
    "\n",
    "## Laboratorium 5 - algorytm normalizacja, selekcja cech.\n",
    "\n",
    "\n",
    "### Opis\n",
    "Celem laboratorium jest przeprowadzenie normalizacji i selekcji cech.\n",
    "\n",
    "\n",
    "### Zbiór danych\n",
    "\n",
    "Zbiór danych znajduje się w katalogu `dataset/*`. Jest to zmodyfikowany zbiór danych znajdujący się pod adresem: <https://archive.ics.uci.edu/ml/datasets/leaf>.\n",
    "\n",
    "### Przesyłanie zadań\n",
    "\n",
    "Wszystkie pliki należy spakować archiwizatorem **zip** i przesłać za pośrednictwem platformy WIKAMP. Poniżej oczekiwana zawartość archiwum:\n",
    "\n",
    "```\n",
    "+-- 📂 [IMIE.NAZWISKO].zip\n",
    "    +-- 📜 Lab05.ipynb\n",
    "    +-- 📂 dataset\n",
    "        +-- 📜 dataset.npz\n",
    "        +-- 📜 ReadMe.pdf\n",
    "```\n",
    "\n",
    "**Pamiętaj, wyniki powinny być czytelnie opisane oraz zaprezentowane graficznie (jeżeli jest taka możliwość).**\n",
    "\n",
    "Przykład (na podstawie tablicy pomyłek):\n",
    "\n",
    "**Źle** (nie wiadomo co jest poniżej zaprezentowane, kolumny ani wiersze nie są podpisane, nie wiadomo które z nich prezentują predykcje, a które właściwe etykiety):\n",
    "```\n",
    "array([[2, 0, 0],\n",
    "       [0, 0, 1],\n",
    "       [1, 0, 2]])\n",
    "```\n",
    "\n",
    "### Zadanie\n",
    "\n",
    "Należy wykonać następujące czynności w celu realizacji niniejszego zadania:\n",
    "\n",
    "#### Normalizacja\n",
    "* Wczytaj dane.\n",
    "* Znormalizuj dane.\n",
    "* Przeprowadź eksperyment z zastosowaniem algorytmu kNN lub NM dla danych znormalizowanych oraz bez normalizacji.\n",
    "    * W eksperymencie wybierz 5 klas oraz 10 cech.\n",
    "* Przedstaw porównanie wyników klasyfikacji na danych znormalizowanych i bez normalizacji.\n",
    "* Napisz wnioski.\n",
    "\n",
    "**UWAGA: Wykorzystaj gotową implementację kNN [KNeighborsClassifier](https://scikit-learn.org/stable/modules/generated/sklearn.neighbors.KNeighborsClassifier.html)**"
   ]
  },
  {
   "cell_type": "code",
   "execution_count": 35,
   "metadata": {},
   "outputs": [],
   "source": [
    "# Importy\n",
    "import numpy as np\n",
    "import matplotlib.pyplot as plt\n",
    "import pandas as pd"
   ]
  },
  {
   "cell_type": "code",
   "execution_count": 8,
   "metadata": {},
   "outputs": [],
   "source": [
    "# Wczytywanie danych\n",
    "with open('./dataset/dataset.npz', 'rb') as f:\n",
    "    data = np.load(f)\n",
    "    train, test = data['train'], data['test']\n",
    "\n",
    "    train_y, train_x = np.hsplit(train, [1])\n",
    "    test_y, test_x = np.hsplit(test, [1])\n",
    "    \n",
    "    train_y = train_y.flatten()\n",
    "    test_y = test_y.flatten()\n",
    "    \n",
    "    data = {\n",
    "        'train': {\n",
    "            'x': train_x,\n",
    "            'y': train_y,\n",
    "        },\n",
    "        'test': {\n",
    "            'x': test_x,\n",
    "            'y': test_y,\n",
    "        }\n",
    "    }"
   ]
  },
  {
   "cell_type": "code",
   "execution_count": 23,
   "metadata": {},
   "outputs": [],
   "source": [
    "# Funkcja do filtrowania wybranych klas ze zbioru danych\n",
    "def filter_classes(classes):\n",
    "    train_indexes = np.zeros((data['train']['x'].shape[0],), dtype=np.bool_)\n",
    "    test_indexes = np.zeros((data['test']['x'].shape[0],), dtype=np.bool_)\n",
    "    \n",
    "    for class_ in classes:\n",
    "        train_indexes |= data['train']['y'] == class_\n",
    "        test_indexes |= data['test']['y'] == class_\n",
    "        \n",
    "    new_train_x = data['train']['x'][train_indexes]\n",
    "    new_test_x = data['test']['x'][test_indexes]\n",
    "    new_train_y = data['train']['y'][train_indexes]\n",
    "    new_test_y = data['test']['y'][test_indexes]\n",
    "    \n",
    "    new_data = {\n",
    "        'train': {\n",
    "            'x': new_train_x,\n",
    "            'y': new_train_y,\n",
    "        },\n",
    "        'test': {\n",
    "            'x': new_test_x,\n",
    "            'y': new_test_y,\n",
    "        }\n",
    "    }\n",
    "    \n",
    "    return new_data"
   ]
  },
  {
   "cell_type": "code",
   "execution_count": 24,
   "metadata": {},
   "outputs": [],
   "source": [
    "data_5classes = filter_classes([9, 10, 11, 12, 13])"
   ]
  },
  {
   "cell_type": "markdown",
   "metadata": {},
   "source": [
    "### Bez skalowania"
   ]
  },
  {
   "cell_type": "code",
   "execution_count": 68,
   "metadata": {},
   "outputs": [],
   "source": [
    "# Model i nauka\n",
    "from sklearn.pipeline import make_pipeline\n",
    "from sklearn.preprocessing import MinMaxScaler\n",
    "from sklearn.neighbors import KNeighborsClassifier\n",
    "from sklearn.compose import ColumnTransformer\n",
    "\n",
    "knn_without_scaling = make_pipeline(\n",
    "    ColumnTransformer([('columns', 'passthrough', slice(0, 10))], remainder='drop'),\n",
    "    KNeighborsClassifier(n_neighbors=5)\n",
    ")\n",
    "\n",
    "knn_without_scaling.fit(data_5classes['train']['x'], data_5classes['train']['y']);"
   ]
  },
  {
   "cell_type": "code",
   "execution_count": 69,
   "metadata": {},
   "outputs": [
    {
     "name": "stdout",
     "output_type": "stream",
     "text": [
      "              precision    recall  f1-score   support\n",
      "\n",
      "         9.0       0.00      0.00      0.00        33\n",
      "        10.0       0.00      0.00      0.00        55\n",
      "        11.0       1.00      0.88      0.93        88\n",
      "        12.0       1.00      0.35      0.51        55\n",
      "        13.0       0.00      0.00      0.00        44\n",
      "\n",
      "    accuracy                           0.35       275\n",
      "   macro avg       0.40      0.24      0.29       275\n",
      "weighted avg       0.52      0.35      0.40       275\n",
      "\n"
     ]
    }
   ],
   "source": [
    "# Ocena\n",
    "from sklearn.metrics import classification_report\n",
    "\n",
    "predictions = knn_without_scaling.predict(data_5classes['test']['x'])\n",
    "report = classification_report(data_5classes['test']['y'], predictions)\n",
    "print(report)"
   ]
  },
  {
   "cell_type": "code",
   "execution_count": 70,
   "metadata": {},
   "outputs": [
    {
     "data": {
      "image/png": "[encoded data removed]",
      "text/plain": [
       "<Figure size 360x360 with 2 Axes>"
      ]
     },
     "metadata": {
      "needs_background": "light"
     },
     "output_type": "display_data"
    }
   ],
   "source": [
    "# macierz pomyłek\n",
    "from sklearn.metrics import ConfusionMatrixDisplay\n",
    "model, data = knn_without_scaling, data_5classes['test']\n",
    "fig, ax = plt.subplots(1, 1, figsize=(5, 5))\n",
    "predictions = model.predict(data['x'])\n",
    "ConfusionMatrixDisplay.from_predictions(data['y'], predictions, ax=ax);"
   ]
  },
  {
   "cell_type": "markdown",
   "metadata": {},
   "source": [
    "### Ze skalowaniem"
   ]
  },
  {
   "cell_type": "code",
   "execution_count": 65,
   "metadata": {},
   "outputs": [],
   "source": [
    "# Model i nauka\n",
    "from sklearn.pipeline import make_pipeline\n",
    "from sklearn.preprocessing import MinMaxScaler\n",
    "from sklearn.neighbors import KNeighborsClassifier\n",
    "from sklearn.compose import ColumnTransformer\n",
    "\n",
    "knn_with_scaling = make_pipeline(\n",
    "    ColumnTransformer([('columns', 'passthrough', slice(0, 10))], remainder='drop'),\n",
    "    MinMaxScaler(),\n",
    "    KNeighborsClassifier(n_neighbors=5)\n",
    ")\n",
    "\n",
    "knn_with_scaling.fit(data_5classes['train']['x'], data_5classes['train']['y']);"
   ]
  },
  {
   "cell_type": "code",
   "execution_count": 66,
   "metadata": {},
   "outputs": [
    {
     "name": "stdout",
     "output_type": "stream",
     "text": [
      "              precision    recall  f1-score   support\n",
      "\n",
      "         9.0       0.31      0.48      0.38        33\n",
      "        10.0       0.59      0.44      0.50        55\n",
      "        11.0       1.00      1.00      1.00        88\n",
      "        12.0       1.00      0.95      0.97        55\n",
      "        13.0       1.00      0.98      0.99        44\n",
      "\n",
      "    accuracy                           0.81       275\n",
      "   macro avg       0.78      0.77      0.77       275\n",
      "weighted avg       0.83      0.81      0.82       275\n",
      "\n"
     ]
    }
   ],
   "source": [
    "# Ocena\n",
    "from sklearn.metrics import classification_report\n",
    "\n",
    "predictions = knn_with_scaling.predict(data_5classes['test']['x'])\n",
    "report = classification_report(data_5classes['test']['y'], predictions)\n",
    "print(report)"
   ]
  },
  {
   "cell_type": "code",
   "execution_count": 67,
   "metadata": {},
   "outputs": [
    {
     "data": {
      "image/png": "[encoded data removed]",
      "text/plain": [
       "<Figure size 360x360 with 2 Axes>"
      ]
     },
     "metadata": {
      "needs_background": "light"
     },
     "output_type": "display_data"
    }
   ],
   "source": [
    "# macierz pomyłek\n",
    "from sklearn.metrics import ConfusionMatrixDisplay\n",
    "model, data = knn_with_scaling, data_5classes['test']\n",
    "fig, ax = plt.subplots(1, 1, figsize=(5, 5))\n",
    "predictions = model.predict(data['x'])\n",
    "ConfusionMatrixDisplay.from_predictions(data['y'], predictions, ax=ax);"
   ]
  },
  {
   "cell_type": "markdown",
   "metadata": {},
   "source": [
    "### Wnioski"
   ]
  },
  {
   "cell_type": "markdown",
   "metadata": {},
   "source": [
    "- Normalizacja danych znacznie poprawia wyniki.\n",
    "- Klasa 9 jest często mylona z 10.\n",
    "- W przypadku danych nieznormalizowanych klasa 9 jest często mylona z 13, po znormalizowaniu już nie."
   ]
  },
  {
   "cell_type": "markdown",
   "metadata": {},
   "source": [
    "#### Selekcja cech\n",
    "Na tym samym podzbiorze danych (co w poprzednim zadaniu).\n",
    "* Przeprowadź selekcję cech (wybierz {2, 5} cech) za pomocą metod poznanych na wykładzie (np. z zastosowaniem współczynnika Fishera) lub istniejących implementacji z biblioteki [scikit-learn](https://scikit-learn.org/stable/modules/feature_selection.html) (np. [SelectKBest](https://scikit-learn.org/stable/modules/generated/sklearn.feature_selection.SelectKBest.html#sklearn.feature_selection.SelectKBest)).\n",
    "* Przeprowadź klasyfikację na wybranych cechach.\n",
    "* Porównaj wyniki klasyfikacji dla różnej liczby cech:\n",
    "    * 10 cech bez normalizacji (wyniki z poprzedniego zadania),\n",
    "    * 10 cech z normalizacją (wyniki z poprzedniego zadania),\n",
    "    * 5 wybranych cech z bez normalizacji,\n",
    "    * 5 wybranych cech z normalizacją,\n",
    "    * 2 wybranych cech z bez normalizacji,\n",
    "    * 2 wybranych cech z normalizacją.\n",
    "* Opisz wyniki i napisz wnioski.\n"
   ]
  },
  {
   "cell_type": "code",
   "execution_count": 83,
   "metadata": {},
   "outputs": [],
   "source": [
    "from sklearn.pipeline import make_pipeline\n",
    "from sklearn.preprocessing import MinMaxScaler\n",
    "from sklearn.neighbors import KNeighborsClassifier\n",
    "from sklearn.compose import ColumnTransformer\n",
    "from sklearn.feature_selection import SelectKBest\n",
    "from sklearn.metrics import classification_report\n",
    "from sklearn.metrics import ConfusionMatrixDisplay\n",
    "\n",
    "def perform_test(n_features, normalize):\n",
    "    \n",
    "    model = make_pipeline(\n",
    "        ColumnTransformer([('columns', 'passthrough', slice(0, 10))], remainder='drop'),\n",
    "        SelectKBest(k=n_features),\n",
    "        *([MinMaxScaler()] if normalize else []),\n",
    "        KNeighborsClassifier(n_neighbors=5)\n",
    "    )\n",
    "\n",
    "    model.fit(data_5classes['train']['x'], data_5classes['train']['y']);\n",
    "\n",
    "    # metryki\n",
    "    predictions = model.predict(data_5classes['test']['x'])\n",
    "    report = classification_report(data_5classes['test']['y'], predictions)\n",
    "    print(report)\n",
    "    \n",
    "    # macierz pomyłek\n",
    "    fig, ax = plt.subplots(1, 1, figsize=(5, 5))\n",
    "    predictions = model.predict(data['x'])\n",
    "    ConfusionMatrixDisplay.from_predictions(data_5classes['test']['y'], predictions, ax=ax);"
   ]
  },
  {
   "cell_type": "markdown",
   "metadata": {},
   "source": [
    "### 10 cech bez normalizacji"
   ]
  },
  {
   "cell_type": "markdown",
   "metadata": {},
   "source": [
    "                  precision    recall  f1-score   support\n",
    "\n",
    "             9.0       0.00      0.00      0.00        33\n",
    "            10.0       0.00      0.00      0.00        55\n",
    "            11.0       1.00      0.88      0.93        88\n",
    "            12.0       1.00      0.35      0.51        55\n",
    "            13.0       0.00      0.00      0.00        44\n",
    "\n",
    "        accuracy                           0.35       275\n",
    "       macro avg       0.40      0.24      0.29       275\n",
    "    weighted avg       0.52      0.35      0.40       275"
   ]
  },
  {
   "cell_type": "markdown",
   "metadata": {},
   "source": [
    "### 10 z normalizacją"
   ]
  },
  {
   "cell_type": "markdown",
   "metadata": {},
   "source": [
    "                  precision    recall  f1-score   support\n",
    "\n",
    "             9.0       0.31      0.48      0.38        33\n",
    "            10.0       0.59      0.44      0.50        55\n",
    "            11.0       1.00      1.00      1.00        88\n",
    "            12.0       1.00      0.95      0.97        55\n",
    "            13.0       1.00      0.98      0.99        44\n",
    "\n",
    "        accuracy                           0.81       275\n",
    "       macro avg       0.78      0.77      0.77       275\n",
    "    weighted avg       0.83      0.81      0.82       275"
   ]
  },
  {
   "cell_type": "markdown",
   "metadata": {},
   "source": [
    "### 5 wybranych cech bez normalizacji"
   ]
  },
  {
   "cell_type": "code",
   "execution_count": 84,
   "metadata": {},
   "outputs": [
    {
     "name": "stdout",
     "output_type": "stream",
     "text": [
      "              precision    recall  f1-score   support\n",
      "\n",
      "         9.0       0.68      0.70      0.69        33\n",
      "        10.0       0.82      0.85      0.84        55\n",
      "        11.0       1.00      1.00      1.00        88\n",
      "        12.0       1.00      0.93      0.96        55\n",
      "        13.0       0.98      1.00      0.99        44\n",
      "\n",
      "    accuracy                           0.92       275\n",
      "   macro avg       0.90      0.90      0.90       275\n",
      "weighted avg       0.92      0.92      0.92       275\n",
      "\n"
     ]
    },
    {
     "data": {
      "image/png": "[encoded data removed]",
      "text/plain": [
       "<Figure size 360x360 with 2 Axes>"
      ]
     },
     "metadata": {
      "needs_background": "light"
     },
     "output_type": "display_data"
    }
   ],
   "source": [
    "perform_test(n_features=5, normalize=False)"
   ]
  },
  {
   "cell_type": "markdown",
   "metadata": {},
   "source": [
    "### 5 wybranych cech z normalizacją"
   ]
  },
  {
   "cell_type": "code",
   "execution_count": 85,
   "metadata": {},
   "outputs": [
    {
     "name": "stdout",
     "output_type": "stream",
     "text": [
      "              precision    recall  f1-score   support\n",
      "\n",
      "         9.0       0.68      0.64      0.66        33\n",
      "        10.0       0.80      0.87      0.83        55\n",
      "        11.0       1.00      1.00      1.00        88\n",
      "        12.0       1.00      0.93      0.96        55\n",
      "        13.0       0.98      1.00      0.99        44\n",
      "\n",
      "    accuracy                           0.92       275\n",
      "   macro avg       0.89      0.89      0.89       275\n",
      "weighted avg       0.92      0.92      0.92       275\n",
      "\n"
     ]
    },
    {
     "data": {
      "image/png": "[encoded data removed]",
      "text/plain": [
       "<Figure size 360x360 with 2 Axes>"
      ]
     },
     "metadata": {
      "needs_background": "light"
     },
     "output_type": "display_data"
    }
   ],
   "source": [
    "perform_test(n_features=5, normalize=True)"
   ]
  },
  {
   "cell_type": "markdown",
   "metadata": {},
   "source": [
    "### 2 wybrane cechy bez normalizacji"
   ]
  },
  {
   "cell_type": "code",
   "execution_count": 86,
   "metadata": {},
   "outputs": [
    {
     "name": "stdout",
     "output_type": "stream",
     "text": [
      "              precision    recall  f1-score   support\n",
      "\n",
      "         9.0       0.39      0.45      0.42        33\n",
      "        10.0       0.47      0.67      0.56        55\n",
      "        11.0       1.00      1.00      1.00        88\n",
      "        12.0       0.31      0.09      0.14        55\n",
      "        13.0       0.80      1.00      0.89        44\n",
      "\n",
      "    accuracy                           0.69       275\n",
      "   macro avg       0.60      0.64      0.60       275\n",
      "weighted avg       0.65      0.69      0.65       275\n",
      "\n"
     ]
    },
    {
     "data": {
      "image/png": "[encoded data removed]",
      "text/plain": [
       "<Figure size 360x360 with 2 Axes>"
      ]
     },
     "metadata": {
      "needs_background": "light"
     },
     "output_type": "display_data"
    }
   ],
   "source": [
    "perform_test(n_features=2, normalize=False)"
   ]
  },
  {
   "cell_type": "markdown",
   "metadata": {},
   "source": [
    "### 2 wybrane cechy z normalizacją"
   ]
  },
  {
   "cell_type": "code",
   "execution_count": 87,
   "metadata": {},
   "outputs": [
    {
     "name": "stdout",
     "output_type": "stream",
     "text": [
      "              precision    recall  f1-score   support\n",
      "\n",
      "         9.0       0.42      0.45      0.43        33\n",
      "        10.0       0.50      0.62      0.55        55\n",
      "        11.0       1.00      1.00      1.00        88\n",
      "        12.0       0.39      0.20      0.27        55\n",
      "        13.0       0.80      1.00      0.89        44\n",
      "\n",
      "    accuracy                           0.70       275\n",
      "   macro avg       0.62      0.65      0.63       275\n",
      "weighted avg       0.68      0.70      0.68       275\n",
      "\n"
     ]
    },
    {
     "data": {
      "image/png": "[encoded data removed]",
      "text/plain": [
       "<Figure size 360x360 with 2 Axes>"
      ]
     },
     "metadata": {
      "needs_background": "light"
     },
     "output_type": "display_data"
    }
   ],
   "source": [
    "perform_test(n_features=2, normalize=True)"
   ]
  },
  {
   "cell_type": "markdown",
   "metadata": {},
   "source": [
    "### Wnioski"
   ]
  },
  {
   "cell_type": "markdown",
   "metadata": {},
   "source": [
    "- Nauka po wyborze cech działa lepiej niż bez wyboru, ponieważ usuwane są cechy które są bez znaczenia lub nawet przeszkadzają.\n",
    "- Normalizacja poprawia wyniki, szczególnie w przypadku dużej liczby cech.\n",
    "- Wybór 5 cech daje wyraźnie lepsze wyniki niż dwóch, co oznacza, że jest więcej istotnych cech niż 2."
   ]
  }
 ],
 "metadata": {
  "author": {
   "emails": [
    "rsusik@kis.p.lodz.pl"
   ],
   "name": "Robert Susik"
  },
  "kernelspec": {
   "display_name": "Python 3 (ipykernel)",
   "language": "python",
   "name": "python3"
  },
  "language_info": {
   "codemirror_mode": {
    "name": "ipython",
    "version": 3
   },
   "file_extension": ".py",
   "mimetype": "text/x-python",
   "name": "python",
   "nbconvert_exporter": "python",
   "pygments_lexer": "ipython3",
   "version": "3.9.7"
  },
  "toc": {
   "base_numbering": 1,
   "nav_menu": {},
   "number_sections": true,
   "sideBar": true,
   "skip_h1_title": false,
   "title_cell": "Table of Contents",
   "title_sidebar": "Contents",
   "toc_cell": false,
   "toc_position": {},
   "toc_section_display": true,
   "toc_window_display": true
  }
 },
 "nbformat": 4,
 "nbformat_minor": 4
}
